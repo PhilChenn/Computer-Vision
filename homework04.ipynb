{
  "nbformat": 4,
  "nbformat_minor": 0,
  "metadata": {
    "kernelspec": {
      "display_name": "Python 3",
      "language": "python",
      "name": "python3"
    },
    "language_info": {
      "codemirror_mode": {
        "name": "ipython",
        "version": 3
      },
      "file_extension": ".py",
      "mimetype": "text/x-python",
      "name": "python",
      "nbconvert_exporter": "python",
      "pygments_lexer": "ipython3",
      "version": "3.7.4"
    },
    "pycharm": {
      "stem_cell": {
        "cell_type": "raw",
        "metadata": {
          "collapsed": false
        },
        "source": []
      }
    },
    "colab": {
      "name": "homework04.ipynb",
      "provenance": [],
      "include_colab_link": true
    }
  },
  "cells": [
    {
      "cell_type": "markdown",
      "metadata": {
        "id": "view-in-github",
        "colab_type": "text"
      },
      "source": [
        "<a href=\"https://colab.research.google.com/github/PhilChenn/Computer-Vision/blob/main/homework04.ipynb\" target=\"_parent\"><img src=\"https://colab.research.google.com/assets/colab-badge.svg\" alt=\"Open In Colab\"/></a>"
      ]
    },
    {
      "cell_type": "markdown",
      "metadata": {
        "tags": [
          "AST"
        ],
        "id": "oVvIARW2jKh2"
      },
      "source": [
        "<style>\n",
        "    @media print{\n",
        "        body {\n",
        "            position:relative !important;\n",
        "        }\n",
        "        .celltag_new_page {\n",
        "            page-break-before: always !important;\n",
        "        }\n",
        "    }\n",
        "</style>\n",
        "# COMPSCI 527 Homework 4"
      ]
    },
    {
      "cell_type": "markdown",
      "metadata": {
        "tags": [
          "AT"
        ],
        "id": "N2rpMomVjKiD"
      },
      "source": [
        "### Problem 0 (3 points)"
      ]
    },
    {
      "cell_type": "markdown",
      "metadata": {
        "tags": [
          "AST"
        ],
        "id": "DBFoE8_CjKiD"
      },
      "source": [
        "## Part 1: The Soft-Max"
      ]
    },
    {
      "cell_type": "markdown",
      "metadata": {
        "tags": [
          "AST"
        ],
        "id": "dSymVLuTjKiE"
      },
      "source": [
        "### Problem 1.1 (Exam Style)"
      ]
    },
    {
      "cell_type": "markdown",
      "metadata": {
        "id": "Yw0gzQ_rj3Il"
      },
      "source": [
        "The output of a softmax function satisfies that\r\n",
        "\r\n",
        "\r\n",
        "\\begin{cases}\r\n",
        "p_1 + p_2 + p_3 = 1 \\\\\r\n",
        "p_1 > 0, p_2 > 0, p_3 > 0\r\n",
        "\\end{cases}\r\n",
        "\r\n",
        "\r\n",
        "The equation is a plane in $\\mathbb{R}^3$ and the three inequality constraints represent the first octant (+,+,+) in $\\mathbb{R}^3$.\r\n",
        "\r\n",
        "The polygon P is the intersection of these two objects, which is a triangular 2-simplex.\r\n",
        "\r\n",
        "The vertices of P in $\\mathbb{R}^3$ is:\r\n",
        "\r\n",
        "$A(1,0,0)$\r\n",
        "\r\n",
        "$B(0,1,0)$\r\n",
        "\r\n",
        "$C(0,0,1)$\r\n"
      ]
    },
    {
      "cell_type": "markdown",
      "metadata": {
        "tags": [
          "AST"
        ],
        "id": "w5hZ-cVGjKiE"
      },
      "source": [
        "### Problem 1.2 (Exam Style)"
      ]
    },
    {
      "cell_type": "markdown",
      "metadata": {
        "id": "Ru-lSzHzpm3w"
      },
      "source": [
        "since $ \\hat{y} = arg max_{k\\in\\{1,2,3\\}} p_k$, \r\n",
        "\r\n",
        "$\\hat{y} = 1$ when $p_1 = max\\{p_1,p_2,p_3\\}$,\r\n",
        "\r\n",
        "$\\hat{y} = 2$ when $p_2 = max\\{p_1,p_2,p_3\\}$,\r\n",
        "\r\n",
        "$\\hat{y} = 3$ when $p_3 = max\\{p_1,p_2,p_3\\}$.\r\n",
        "\r\n",
        "Take the first decision region where $\\hat{y} = 1$ for example, $p_k$ satisfies that \r\n",
        "\\begin{cases}\r\n",
        "p_1 + p_2 + p_3 = 1 \\\\\r\n",
        "p_1 > p_2 > 0 \\\\\r\n",
        "p_1 > p_3 > 0\r\n",
        "\\end{cases}\r\n",
        "The solution to the constraints is a quadrilateral with the following vertices \r\n",
        "\r\n",
        "$(\\frac{1}{2},0,\\frac{1}{2}), (1,0,0), (\\frac{1}{2},\\frac{1}{2},0), (\\frac{1}{3},\\frac{1}{3},\\frac{1}{3}） $ \r\n",
        "\r\n",
        "Similarly, the vertices for the second decision region are \r\n",
        "\r\n",
        "$(\\frac{1}{2},\\frac{1}{2},0), (0,1,0), (0,\\frac{1}{2},\\frac{1}{2}), (\\frac{1}{3},\\frac{1}{3},\\frac{1}{3}） $ \r\n",
        "\r\n",
        "The vertices for the third decision region are \r\n",
        "\r\n",
        "$(\\frac{1}{2},0,\\frac{1}{2}), (0,0,1), (0,\\frac{1}{2},\\frac{1}{2}), (\\frac{1}{3},\\frac{1}{3},\\frac{1}{3}） $ "
      ]
    },
    {
      "cell_type": "markdown",
      "metadata": {
        "tags": [
          "AST"
        ],
        "id": "9fLfXrEwjKiE"
      },
      "source": [
        "## Part 2: Loss and Soft-Max "
      ]
    },
    {
      "cell_type": "markdown",
      "metadata": {
        "tags": [
          "AST"
        ],
        "id": "FyLA7oZCjKiF"
      },
      "source": [
        "### Problem 2.1 (Exam Style)"
      ]
    },
    {
      "cell_type": "markdown",
      "metadata": {
        "id": "JYSctJW77osd"
      },
      "source": [
        "Similar to problem 1, the output of a softmax function satisfies that\r\n",
        "\r\n",
        "\\begin{cases}\r\n",
        "p_1 + p_2 = 1 \\\\\r\n",
        "p_1 > 0, p_2 > 0\r\n",
        "\\end{cases}\r\n",
        "\r\n",
        "The quadratic loss is defined as \r\n",
        "$\r\n",
        "\\ell_q(y,p) = \\frac{1}{2}||q(y) - p||^2,$ where $p=(p_0,p_1).\r\n",
        "$\r\n",
        "\r\n",
        "When $y=0$, we have $q(y)=(1,0)$, therefore\r\n",
        "$\r\n",
        "\\ell_q(y,p) = \\frac{1}{2}||(1,0) - (p_0,p_1)||^2 \\\\\r\n",
        "= \\frac{(1-p_0)^2 + p_1^2}{2} \\\\\r\n",
        "= \\frac{(1-p_0)^2 + (1-p_0)^2}{2} \\\\\r\n",
        "= (1-p_0)^2\r\n",
        "$\r\n",
        "\r\n",
        "When $y=1$, we have $q(y)=(0,1)$, therefore\r\n",
        "$\r\n",
        "\\ell_q(y,p) = \\frac{1}{2}||(0,1) - (p_0,p_1)||^2 \\\\\r\n",
        "= \\frac{p_0^2 + (1-p_1)^2}{2} \\\\\r\n",
        "= \\frac{(1-p_1)^2 + (1-p_1)^2}{2} \\\\\r\n",
        "= (1-p_1)^2\r\n",
        "$\r\n",
        "\r\n",
        "Since y is only defined over 0 and 1, we can conclude that \r\n",
        "$\r\n",
        "\\ell_q(y,p) = (1-p_y)^2.\r\n",
        "$"
      ]
    },
    {
      "cell_type": "markdown",
      "metadata": {
        "tags": [
          "AST"
        ],
        "id": "Md-At673jKiF"
      },
      "source": [
        "### Problem 2.2 (Exam Style)"
      ]
    },
    {
      "cell_type": "markdown",
      "metadata": {
        "id": "7Ab1ELc3_0EB"
      },
      "source": [
        "$\r\n",
        "(p_0,p_1) = \\sigma(z) \\\\\r\n",
        "= (\\sigma(z_0),\\sigma(z_1)) \\\\\r\n",
        "= (\\frac{e^{z_0}}{e^{z_0}+e^{z_1}},\\frac{e^{z_1}}{e^{z_0}+e^{z_1}})\r\n",
        "$\r\n",
        "\r\n",
        "That is, \r\n",
        "\r\n",
        "$\r\n",
        "p_0 = \\frac{e^{z_0}}{e^{z_0}+e^{z_1}} \\\\\r\n",
        "= \\frac{1}{1+\\frac{e^{z_1}}{e^{z_0}}} \\\\\r\n",
        "= \\frac{1}{1+e^{z_1-z_0}} \\\\\r\n",
        "= \\frac{1}{1+e^{-d}}\r\n",
        "$\r\n",
        "\r\n",
        "We have shown that $p_0$ depends exclusively on $d$ and not on $z_0$ and $z_1$ separately. Therefore, the output of the soft-max function $\\sigma(z)$ depends only on $d = z_0 - z_1$."
      ]
    },
    {
      "cell_type": "markdown",
      "metadata": {
        "tags": [
          "AST"
        ],
        "id": "30Sa64NtjKiF"
      },
      "source": [
        "### Problem 2.3"
      ]
    },
    {
      "cell_type": "code",
      "metadata": {
        "colab": {
          "base_uri": "https://localhost:8080/",
          "height": 350
        },
        "id": "IsXyG_0KCQko",
        "outputId": "066a31f0-234e-436b-b871-c808919fe681"
      },
      "source": [
        "import numpy as np\r\n",
        "from matplotlib import pyplot as plt\r\n",
        "\r\n",
        "d = np.linspace(-5., 5., 301)\r\n",
        "# p_0 = np.exp(d) / (np.exp(d)+1)\r\n",
        "# p_1 = 1 / (np.exp(d)+1)\r\n",
        "\r\n",
        "# y=0\r\n",
        "L_01 = np.heaviside(d,0) # = 1 if d>0 else 0\r\n",
        "L_q = 1/np.square(np.exp(d)+1)\r\n",
        "L_xe = np.log(np.exp(d)+1) - d #-np.log(np.exp(d) / (np.exp(d)+1))\r\n",
        "L0 = [L_01, L_q, L_xe]\r\n",
        "\r\n",
        "# y=1\r\n",
        "L_01 = np.heaviside(-d,0) # = 1 if d<0 else 0\r\n",
        "L_q = np.square(np.exp(d) / (np.exp(d)+1))\r\n",
        "L_xe = np.log(np.exp(d)+1) #-np.log(1 / (np.exp(d)+1))\r\n",
        "L1 = [L_01, L_q, L_xe]\r\n",
        "\r\n",
        "label = ['zero-one loss', 'quadratic loss', 'cross-entropy loss']\r\n",
        "plt.figure(figsize=(18, 5))\r\n",
        "for j in [1,2,3]:\r\n",
        "  \r\n",
        "  plt.subplot(1, 3, j)\r\n",
        "  plt.xticks(np.linspace(-5, 5, 11))\r\n",
        "  axes = plt.gca()\r\n",
        "  axes.set_xlabel('d')\r\n",
        "  plt.plot(d, L0[j-1], label=\"y=0\")\r\n",
        "  plt.plot(d, L1[j-1], label=\"y=1\")\r\n",
        "  plt.legend(loc='upper left')\r\n",
        "  plt.title(label[j-1])\r\n",
        "  \r\n",
        "plt.show()\r\n",
        "  "
      ],
      "execution_count": null,
      "outputs": [
        {
          "output_type": "display_data",
          "data": {
            "image/png": "[encoded data removed]",
            "text/plain": [
              "<Figure size 1296x360 with 3 Axes>"
            ]
          },
          "metadata": {
            "tags": [],
            "needs_background": "light"
          }
        }
      ]
    },
    {
      "cell_type": "markdown",
      "metadata": {
        "tags": [
          "AST"
        ],
        "id": "ZcvmQngFjKiF"
      },
      "source": [
        "### Problem 2.4 (Exam Style)"
      ]
    },
    {
      "cell_type": "markdown",
      "metadata": {
        "id": "A9BRqFs6RaEo"
      },
      "source": [
        "The cross entropy loss function is convex.\r\n",
        "\r\n",
        "A strictly convex function has a single global minimum. In optimization problems, we use gradient descent algorithm to search for minimum. When we reached a local minimum, it is also the global minimum. Non-convex functions do not possess such properties, but that is not a big issue for neural networks.\r\n",
        "\r\n",
        "When training a neural network, the global minimum is usually not found after the optimization steps in deep learning. \r\n",
        "Also due to overfitting concerns, we tend to avoid the overspecialization of the neural network to a global minimum, which might be the ultimate specialization to the training set.\r\n",
        "\r\n",
        "In a word, it is fine to stick in a local minimum with non-convex loss functions when training neural networks. Therefore, convexity of the composition of soft-max and loss does not help much when training a neural network.\r\n",
        "\r\n",
        "\r\n",
        "***Phil's answer***\r\n",
        "\r\n",
        "The neural network(cascade of fully-connected layers) itself is non-convex due to the use of non-linear activation function. Even if we impose convex composition(soft-max and cross-entropy loss) at the output of neural network, it still doesn't make it convex. As a result, the convexity of the composition of soft-max and loss won't help much with training."
      ]
    },
    {
      "cell_type": "markdown",
      "metadata": {
        "tags": [
          "AST"
        ],
        "id": "rbOPNizKjKiG"
      },
      "source": [
        "## Part 3: Back-Propagation "
      ]
    },
    {
      "cell_type": "markdown",
      "metadata": {
        "tags": [
          "AST"
        ],
        "id": "Re0lNnwrjKiG"
      },
      "source": [
        "### Problem 3.1 (Exam Style)"
      ]
    },
    {
      "cell_type": "markdown",
      "metadata": {
        "id": "8MGuZ13VW-1p"
      },
      "source": [
        "$\r\n",
        "\\hat{y}=1\r\n",
        "$"
      ]
    },
    {
      "cell_type": "markdown",
      "metadata": {
        "tags": [
          "AST"
        ],
        "id": "Wv-W_KF5jKiG"
      },
      "source": [
        "### Problem 3.2 (Exam Style)"
      ]
    },
    {
      "cell_type": "markdown",
      "metadata": {
        "id": "BZ5Du5P335VI"
      },
      "source": [
        "The output of the network \r\n",
        "\r\n",
        "$\r\n",
        "\\hat{y} = ReLU(a_3) \\\\\r\n",
        "= ReLU(w_7y_1 + w_8y_2 +w_9) \\\\\r\n",
        "= ReLU(w_7ReLU(a_1) + w_8ReLU(a_2) +w_9) \\\\\r\n",
        "= ReLU(w_7ReLU(w_1x_1+w_2x_2+w_3) + w_8ReLU(w_4x_1+w_5x_2+w_6) +w_9) \r\n",
        "$\r\n",
        "\r\n",
        "Given the input $x_1=1,x_2=1$, we can simplify $\\hat{y}$ as\r\n",
        "\r\n",
        "$\r\n",
        "\\hat{y} = ReLU(w_7ReLU(w_1+w_2+w_3) + w_8ReLU(w_4+w_5+w_6) + w_9)\r\n",
        "$\r\n",
        "\r\n",
        "since $\\frac{d{ReLU(w)}}{d{w}}=sgn(ReLU(w)),$\r\n",
        "\r\n",
        "$\r\n",
        "g = \\frac{\\partial{\\hat{y}}}{\\partial{w}} \\\\\r\n",
        "=\r\n",
        "\\begin{bmatrix}\r\n",
        "\\frac{\\partial{\\hat{y}}}{\\partial{w_1}} & \r\n",
        "\\frac{\\partial{\\hat{y}}}{\\partial{w_2}} &\r\n",
        "\\frac{\\partial{\\hat{y}}}{\\partial{w_3}} &\r\n",
        "\\frac{\\partial{\\hat{y}}}{\\partial{w_4}} &\r\n",
        "\\frac{\\partial{\\hat{y}}}{\\partial{w_5}} &\r\n",
        "\\frac{\\partial{\\hat{y}}}{\\partial{w_6}} &\r\n",
        "\\frac{\\partial{\\hat{y}}}{\\partial{w_7}} &\r\n",
        "\\frac{\\partial{\\hat{y}}}{\\partial{w_8}} &\r\n",
        "\\frac{\\partial{\\hat{y}}}{\\partial{w_9}} \\\\\r\n",
        "\\end{bmatrix}\r\n",
        "=\r\n",
        "\\begin{bmatrix}\r\n",
        "sgn(ReLU(w_1-1)) & \r\n",
        "sgn(ReLU(w_2+2)) &\r\n",
        "sgn(ReLU(w_3+1)) &\r\n",
        "sgn(ReLU(w_4-2)) &\r\n",
        "sgn(ReLU(w_5-1)) &\r\n",
        "sgn(ReLU(w_6+1)) &\r\n",
        "sgn(ReLU(w_7)) &\r\n",
        "0 &\r\n",
        "sgn(ReLU(w_9)) \\\\\r\n",
        "\\end{bmatrix}\r\n",
        "=\r\n",
        "\\begin{bmatrix}\r\n",
        "1 & \r\n",
        "1 &\r\n",
        "1 &\r\n",
        "0 &\r\n",
        "0 &\r\n",
        "0 &\r\n",
        "1 &\r\n",
        "0 &\r\n",
        "0 \\\\\r\n",
        "\\end{bmatrix}\r\n",
        "$\r\n"
      ]
    },
    {
      "cell_type": "markdown",
      "metadata": {
        "tags": [
          "AST"
        ],
        "id": "mNyPTSmojKiG"
      },
      "source": [
        "## Part 4: Experiments with a Small Neural Network"
      ]
    },
    {
      "cell_type": "code",
      "metadata": {
        "scrolled": true,
        "tags": [
          "AST"
        ],
        "id": "NibBAO1LjKiH"
      },
      "source": [
        "import urllib.request\n",
        "import pickle\n",
        "from os import path as osp\n",
        "\n",
        "\n",
        "pickle_file_name = 'data.pkl'\n",
        "if not osp.exists(pickle_file_name):\n",
        "    url = 'https://www2.cs.duke.edu/courses/spring21/compsci527/homework/4/data.pkl'\n",
        "    urllib.request.urlretrieve(url, pickle_file_name)\n",
        "with open(pickle_file_name, 'rb') as file:\n",
        "    data_sets = pickle.load(file)"
      ],
      "execution_count": null,
      "outputs": []
    },
    {
      "cell_type": "code",
      "metadata": {
        "scrolled": true,
        "tags": [
          "AST"
        ],
        "id": "uOHiGDTJjKiH"
      },
      "source": [
        "import numpy as np\n",
        "\n",
        "\n",
        "def make_data_space(data):\n",
        "    x = np.vstack([data[data_set]['x'] for data_set in data])\n",
        "    tx = data['test']['x']\n",
        "    space = {'left': np.min(x[:, 0]), 'right': np.max(x[:, 0]),\n",
        "             'bottom': np.min(x[:, 1]), 'top': np.max(x[:, 1]),\n",
        "             'pitch': tx[1, 1] - tx[0, 1]}\n",
        "    return space\n",
        "\n",
        "\n",
        "def make_patches(centers, color, side):\n",
        "    shift = -side / 2.\n",
        "    patches = [Rectangle(center + shift, side, side) for center in centers]\n",
        "    return PatchCollection(patches, fc=color, lw=0.)"
      ],
      "execution_count": null,
      "outputs": []
    },
    {
      "cell_type": "code",
      "metadata": {
        "scrolled": true,
        "tags": [
          "AST"
        ],
        "id": "L2Zq50XKjKiI"
      },
      "source": [
        "from matplotlib import pyplot as plt\n",
        "from matplotlib.patches import Rectangle\n",
        "from matplotlib.collections import PatchCollection\n",
        "%matplotlib inline\n",
        "\n",
        "\n",
        "def plot_data(data, space, title):\n",
        "    data_left, data_right = space['left'], space['right']\n",
        "    data_bottom, data_top = space['bottom'], space['top']\n",
        "    pitch = space['pitch']\n",
        "    half_pitch = pitch / 2.\n",
        "    left, right = data_left - half_pitch, data_right + half_pitch\n",
        "    bottom, top = data_bottom - half_pitch, data_top + half_pitch\n",
        "    aspect_ratio = (top - bottom) / (right - left)\n",
        "    width, title_height = 6., 0.25\n",
        "    axes_height = width * aspect_ratio\n",
        "    figure_height = axes_height + title_height\n",
        "    side = 0.75 * pitch\n",
        "    x, y = data['x'], data['y']\n",
        "    plt.figure(figsize=(width, figure_height))\n",
        "    ax = plt.gca()\n",
        "    axes_height_fraction = axes_height / figure_height\n",
        "    ax.set_position((0., 0., 1., axes_height_fraction))\n",
        "    ax.set_xlim(left, right)\n",
        "    ax.set_ylim(bottom, top)\n",
        "    positive = make_patches(x[y, :], 'g', side)\n",
        "    negative = make_patches(x[~y, :], 'r', side)\n",
        "    ax.add_collection(positive)\n",
        "    ax.add_collection(negative)\n",
        "    plt.axis('off')\n",
        "    plt.title(title, fontsize=24)\n",
        "    plt.show()\n",
        "    plt.close()"
      ],
      "execution_count": null,
      "outputs": []
    },
    {
      "cell_type": "code",
      "metadata": {
        "tags": [
          "AST"
        ],
        "id": "ay_nUf3njKiI"
      },
      "source": [
        "from sklearn.neural_network import MLPClassifier as Network\n",
        "from sklearn.utils._testing import ignore_warnings\n",
        "from sklearn.exceptions import ConvergenceWarning\n",
        "\n",
        "\n",
        "@ignore_warnings(category=ConvergenceWarning)\n",
        "def train_network(hidden_layer_sizes, options, data):\n",
        "    net = Network(hidden_layer_sizes=hidden_layer_sizes,\n",
        "                  solver='sgd',\n",
        "                  batch_size=options['mini batch size'],\n",
        "                  learning_rate=options['learning rate schedule'],\n",
        "                  learning_rate_init=options['initial learning rate'],\n",
        "                  power_t=options['learning rate exponent'],\n",
        "                  max_iter=options['max epochs'],\n",
        "                  momentum=options['momentum'],\n",
        "                  validation_fraction=0.,\n",
        "                  n_iter_no_change=options['max epochs'],\n",
        "                  alpha=0.,\n",
        "                  tol=0.,\n",
        "                  verbose=options['verbose']\n",
        "                  )\n",
        "    net.fit(data['x'], data['y'])\n",
        "    risk = net.loss_curve_\n",
        "\n",
        "    return net, risk"
      ],
      "execution_count": null,
      "outputs": []
    },
    {
      "cell_type": "code",
      "metadata": {
        "tags": [
          "AST"
        ],
        "id": "FdiJ4FGTjKiI"
      },
      "source": [
        "def experiment(architecture, training_options, data, runs=1, plot_predictions=None):\n",
        "    if plot_predictions is None:\n",
        "        plot_predictions = runs == 1\n",
        "\n",
        "    accuracy, accuracies, risk_plots = 0., [], []\n",
        "    print('Run', end=' ')\n",
        "    for run in range(runs):\n",
        "        print(run, end=' ')\n",
        "        nn, risk_plot = train_network(architecture, training_options, data['train'])\n",
        "        y_hat = nn.predict(data['test']['x'])\n",
        "        accuracy = nn.score(data['test']['x'], data['test']['y'])\n",
        "        accuracies.append(accuracy)\n",
        "        risk_plots.append(risk_plot)\n",
        "        if plot_predictions:\n",
        "            predictions = {'x': data['test']['x'], 'y': y_hat}\n",
        "            plot_data(predictions, data_space,\n",
        "                      title='run {}, accuracy {:.2f} percent'.format(run, accuracy * 100.))\n",
        "    print()\n",
        "\n",
        "    plt.figure()\n",
        "    for run, plot in enumerate(risk_plots):\n",
        "        plt.plot(plot, label='run {}'.format(run))\n",
        "    plt.legend()\n",
        "    plt.xlabel('epoch')\n",
        "    plt.ylabel('training risk')\n",
        "    plt.show()\n",
        "    plt.close()\n",
        "\n",
        "    if runs == 1:\n",
        "        qualifier = ''\n",
        "    else:\n",
        "        accuracy = np.median(accuracies)\n",
        "        qualifier = 'median '\n",
        "    print('{}accuracy {:.2f} percent'.format(qualifier, accuracy * 100.))"
      ],
      "execution_count": null,
      "outputs": []
    },
    {
      "cell_type": "markdown",
      "metadata": {
        "tags": [
          "AST"
        ],
        "id": "Pxcbmr0TjKiJ"
      },
      "source": [
        "### Problem 4.1 (Exam Style)"
      ]
    },
    {
      "cell_type": "markdown",
      "metadata": {
        "tags": [
          "AST"
        ],
        "id": "FK7m7hSijKiJ"
      },
      "source": [
        "### Problem 4.2"
      ]
    },
    {
      "cell_type": "code",
      "metadata": {
        "tags": [
          "AT"
        ],
        "id": "Hu30Q3YYjKiJ"
      },
      "source": [
        "bad_architecture = (2, 2)\n",
        "\n",
        "bad_training_options = {\n",
        "    'mini batch size': 10,\n",
        "    'learning rate schedule': 'constant',\n",
        "    'initial learning rate': 0.0001,\n",
        "    'learning rate exponent': None,\n",
        "    'max epochs': 2000,\n",
        "    'momentum': 0.,\n",
        "    'verbose': False\n",
        "}\n",
        "\n",
        "# experiment(bad_architecture, bad_training_options, data_sets,\n",
        "#            runs=3, plot_predictions=True)"
      ],
      "execution_count": null,
      "outputs": []
    },
    {
      "cell_type": "code",
      "metadata": {
        "tags": [
          "AT"
        ],
        "id": "4ZFuYCn8jKiK"
      },
      "source": [
        "better_architecture = (2, 2)\n",
        "\n",
        "better_training_options = {\n",
        "    'mini batch size': 10,\n",
        "    'learning rate schedule': 'constant',\n",
        "    'initial learning rate': 0.0001,\n",
        "    'learning rate exponent': None,\n",
        "    'max epochs': 2000,\n",
        "    'momentum': 0.,\n",
        "    'verbose': False\n",
        "}\n",
        "# experiment(better_architecture, better_training_options, data_sets,\n",
        "#            runs=10, plot_predictions=False)"
      ],
      "execution_count": null,
      "outputs": []
    }
  ]
}